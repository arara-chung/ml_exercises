{
 "cells": [
  {
   "cell_type": "code",
   "execution_count": 1,
   "metadata": {
    "collapsed": false
   },
   "outputs": [],
   "source": [
    "from sklearn.datasets import load_iris\n",
    "from mlp import MultilayerPerceptron\n",
    "import numpy as np\n",
    "\n",
    "iris = load_iris()\n",
    "data = np.array(iris.data)\n",
    "target = np.array([[1,0,0] if label==0\n",
    "          else [0,1,0] if label==1\n",
    "          else [0,0,1]\n",
    "          for label in iris.target])"
   ]
  },
  {
   "cell_type": "code",
   "execution_count": 6,
   "metadata": {
    "collapsed": false
   },
   "outputs": [
    {
     "name": "stdout",
     "output_type": "stream",
     "text": [
      "Training with training error and accuracy... \n",
      "Train err: 0.4978954775329455. Valid err: 0.46370191618011625\n",
      "Train acc: 0.275, Valid acc: 0.3333333333333333\n",
      "\n",
      "Train err: 0.45956539658966156. Valid err: 0.36579294327333095\n",
      "Train acc: 0.4166666666666667, Valid acc: 0.3\n",
      "\n",
      "Train err: 0.45420605440314904. Valid err: 0.3536587856043768\n",
      "Train acc: 0.36666666666666664, Valid acc: 0.6333333333333333\n",
      "\n",
      "Train err: 0.44736418238300946. Valid err: 0.3028483889240402\n",
      "Train acc: 0.3333333333333333, Valid acc: 0.6333333333333333\n",
      "\n",
      "Train err: 0.42785844853525595. Valid err: 0.2658341442690196\n",
      "Train acc: 0.475, Valid acc: 0.6333333333333333\n",
      "\n",
      "Train err: 0.43855106847559205. Valid err: 0.2540576249724096\n",
      "Train acc: 0.43333333333333335, Valid acc: 0.6333333333333333\n",
      "\n",
      "Train err: 0.42664352833221125. Valid err: 0.2506316736115648\n",
      "Train acc: 0.4166666666666667, Valid acc: 0.6333333333333333\n",
      "\n",
      "Train err: 0.4137713852525948. Valid err: 0.2501540076675176\n",
      "Train acc: 0.475, Valid acc: 0.6333333333333333\n",
      "\n",
      "Train err: 0.4236137096719329. Valid err: 0.25232067561165944\n",
      "Train acc: 0.39166666666666666, Valid acc: 0.6333333333333333\n",
      "\n",
      "Train err: 0.4437792370336937. Valid err: 0.2444590178288532\n",
      "Train acc: 0.35833333333333334, Valid acc: 0.6333333333333333\n",
      "\n",
      "Train err: 0.4335638640890677. Valid err: 0.24288596099591778\n",
      "Train acc: 0.36666666666666664, Valid acc: 0.7\n",
      "\n",
      "Train err: 0.40084761370339567. Valid err: 0.2427076990168793\n",
      "Train acc: 0.5, Valid acc: 0.8666666666666667\n",
      "\n",
      "Train err: 0.4236086398329455. Valid err: 0.24259948103821477\n",
      "Train acc: 0.39166666666666666, Valid acc: 0.7\n",
      "\n",
      "Train err: 0.4352124963801553. Valid err: 0.24289666643254215\n",
      "Train acc: 0.4083333333333333, Valid acc: 0.7\n",
      "\n",
      "Train err: 0.4180901386873127. Valid err: 0.24419844282563669\n",
      "Train acc: 0.39166666666666666, Valid acc: 0.8666666666666667\n",
      "\n",
      "Train err: 0.4198864046197419. Valid err: 0.24266067583955941\n",
      "Train acc: 0.45, Valid acc: 0.7\n",
      "\n",
      "Train err: 0.4142155132310389. Valid err: 0.2437132654483789\n",
      "Train acc: 0.44166666666666665, Valid acc: 0.7\n",
      "\n",
      "Train err: 0.4292448305642783. Valid err: 0.2434735600605103\n",
      "Train acc: 0.44166666666666665, Valid acc: 0.7\n",
      "\n",
      "Train err: 0.4101004268765311. Valid err: 0.24347211710799238\n",
      "Train acc: 0.4583333333333333, Valid acc: 0.7\n",
      "\n",
      "Train err: 0.41652760537070643. Valid err: 0.24338194197398735\n",
      "Train acc: 0.4583333333333333, Valid acc: 0.7\n",
      "\n"
     ]
    },
    {
     "data": {
      "text/plain": [
       "(0.24538953553927931, 0.66666666666666663)"
      ]
     },
     "execution_count": 6,
     "metadata": {},
     "output_type": "execute_result"
    }
   ],
   "source": [
    "clf = MultilayerPerceptron([10,10])\n",
    "\n",
    "clf.fit(data, target, train_valid_split=0.8, iterations=120000)\n",
    "clf.score(data, target)"
   ]
  },
  {
   "cell_type": "code",
   "execution_count": 3,
   "metadata": {
    "collapsed": false
   },
   "outputs": [],
   "source": [
    "import random\n",
    "\n",
    "X = [1,2,3,4]\n",
    "Y = [5,6,7,8]\n",
    "zipped = list(zip(X,Y))\n",
    "random.shuffle(zipped)\n",
    "\n",
    "x, y = zipped[:2]"
   ]
  },
  {
   "cell_type": "code",
   "execution_count": 4,
   "metadata": {
    "collapsed": false
   },
   "outputs": [
    {
     "data": {
      "text/plain": [
       "[6, 3, 7, 2, 1]"
      ]
     },
     "execution_count": 4,
     "metadata": {},
     "output_type": "execute_result"
    }
   ],
   "source": [
    "X = (1,2,3,4,5)\n",
    "Y = (6,3,7,2,1)\n",
    "list(Y)"
   ]
  },
  {
   "cell_type": "code",
   "execution_count": 5,
   "metadata": {
    "collapsed": false
   },
   "outputs": [
    {
     "data": {
      "text/plain": [
       "array([[1, 0, 1, 1],\n",
       "       [1, 1, 1, 1]])"
      ]
     },
     "execution_count": 5,
     "metadata": {},
     "output_type": "execute_result"
    }
   ],
   "source": [
    "dropout_percent = 0.2\n",
    "np.random.binomial(\n",
    "    [np.ones((2,4))],1-dropout_percent)[0]"
   ]
  },
  {
   "cell_type": "code",
   "execution_count": null,
   "metadata": {
    "collapsed": true
   },
   "outputs": [],
   "source": []
  }
 ],
 "metadata": {
  "kernelspec": {
   "display_name": "Python 3",
   "language": "python",
   "name": "python3"
  },
  "language_info": {
   "codemirror_mode": {
    "name": "ipython",
    "version": 3
   },
   "file_extension": ".py",
   "mimetype": "text/x-python",
   "name": "python",
   "nbconvert_exporter": "python",
   "pygments_lexer": "ipython3",
   "version": "3.6.0"
  }
 },
 "nbformat": 4,
 "nbformat_minor": 2
}
