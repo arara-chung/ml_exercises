{
 "cells": [
  {
   "cell_type": "code",
   "execution_count": 1,
   "metadata": {
    "collapsed": false
   },
   "outputs": [],
   "source": [
    "from sklearn.datasets import load_iris\n",
    "from mlp import MultilayerPerceptron\n",
    "import numpy as np\n",
    "\n",
    "iris = load_iris()\n",
    "data = np.array(iris.data)\n",
    "target = np.array([[1,0,0] if label==0\n",
    "          else [0,1,0] if label==1\n",
    "          else [0,0,1]\n",
    "          for label in iris.target])"
   ]
  },
  {
   "cell_type": "code",
   "execution_count": 6,
   "metadata": {
    "collapsed": false
   },
   "outputs": [
    {
     "name": "stdout",
     "output_type": "stream",
     "text": [
      "Training with training error and accuracy... \n",
      "Iterations: 0\n",
      "Train err: 0.4566180280383446. Valid err: 0.4361557964273027\n",
      "Train acc: 0.325, Valid acc: 0.36666666666666664\n",
      "\n",
      "Iterations: 6000\n",
      "Train err: 0.028384837423217155. Valid err: 0.03870207165286329\n",
      "Train acc: 0.9916666666666667, Valid acc: 0.9333333333333333\n",
      "\n",
      "Iterations: 12000\n",
      "Train err: 0.015481035604286689. Valid err: 0.022304904842984256\n",
      "Train acc: 0.9916666666666667, Valid acc: 0.9666666666666667\n",
      "\n",
      "Iterations: 18000\n",
      "Train err: 0.011676339818736153. Valid err: 0.016305472311752906\n",
      "Train acc: 0.9916666666666667, Valid acc: 0.9666666666666667\n",
      "\n",
      "Iterations: 24000\n",
      "Train err: 0.010485668905379582. Valid err: 0.014147898741406126\n",
      "Train acc: 0.9916666666666667, Valid acc: 1.0\n",
      "\n",
      "Iterations: 30000\n",
      "Train err: 0.009993246566759892. Valid err: 0.01318353417347859\n",
      "Train acc: 0.9916666666666667, Valid acc: 1.0\n",
      "\n",
      "Iterations: 36000\n",
      "Train err: 0.009843169903763395. Valid err: 0.012828484495609927\n",
      "Train acc: 0.9916666666666667, Valid acc: 1.0\n",
      "\n",
      "Iterations: 42000\n",
      "Train err: 0.009900190636987667. Valid err: 0.012868640073023924\n",
      "Train acc: 0.9916666666666667, Valid acc: 1.0\n",
      "\n",
      "Iterations: 48000\n",
      "Train err: 0.010058280870984603. Valid err: 0.013169139434221282\n",
      "Train acc: 0.9916666666666667, Valid acc: 1.0\n",
      "\n",
      "Iterations: 54000\n",
      "Train err: 0.01023116844747472. Valid err: 0.013619300365498153\n",
      "Train acc: 0.9916666666666667, Valid acc: 1.0\n",
      "\n",
      "Iterations: 60000\n",
      "Train err: 0.010384805232509382. Valid err: 0.014150657054914086\n",
      "Train acc: 0.9916666666666667, Valid acc: 1.0\n",
      "\n",
      "Iterations: 66000\n",
      "Train err: 0.01051801018538626. Valid err: 0.014727023671425124\n",
      "Train acc: 0.9916666666666667, Valid acc: 1.0\n",
      "\n",
      "Iterations: 72000\n",
      "Train err: 0.010635845858690278. Valid err: 0.015324898654846557\n",
      "Train acc: 0.9916666666666667, Valid acc: 1.0\n",
      "\n",
      "Iterations: 78000\n",
      "Train err: 0.010742314912048708. Valid err: 0.01592686696481747\n",
      "Train acc: 0.9916666666666667, Valid acc: 0.9666666666666667\n",
      "\n",
      "Iterations: 84000\n",
      "Train err: 0.010839845780491273. Valid err: 0.016519593001541863\n",
      "Train acc: 0.9916666666666667, Valid acc: 0.9666666666666667\n",
      "\n",
      "Iterations: 90000\n",
      "Train err: 0.010929541702418551. Valid err: 0.01709247959888429\n",
      "Train acc: 0.9916666666666667, Valid acc: 0.9666666666666667\n",
      "\n",
      "Iterations: 96000\n",
      "Train err: 0.011011481433521831. Valid err: 0.017636930888324458\n",
      "Train acc: 0.9916666666666667, Valid acc: 0.9666666666666667\n",
      "\n",
      "Iterations: 102000\n",
      "Train err: 0.011085118820735167. Valid err: 0.018146296503595418\n",
      "Train acc: 0.9916666666666667, Valid acc: 0.9666666666666667\n",
      "\n",
      "Iterations: 108000\n",
      "Train err: 0.011149774688971228. Valid err: 0.01861625984787879\n",
      "Train acc: 0.9916666666666667, Valid acc: 0.9666666666666667\n",
      "\n",
      "Iterations: 114000\n",
      "Train err: 0.011205088001045775. Valid err: 0.019045204113261393\n",
      "Train acc: 0.9916666666666667, Valid acc: 0.9666666666666667\n",
      "\n"
     ]
    },
    {
     "data": {
      "text/plain": [
       "(0.012887832611642147, 0.98666666666666669)"
      ]
     },
     "execution_count": 6,
     "metadata": {},
     "output_type": "execute_result"
    }
   ],
   "source": [
    "clf = MultilayerPerceptron([10,10])\n",
    "\n",
    "clf.fit(data, target, train_valid_split=0.8, iterations=120000)\n",
    "clf.score(data, target)"
   ]
  },
  {
   "cell_type": "code",
   "execution_count": 3,
   "metadata": {
    "collapsed": false
   },
   "outputs": [],
   "source": [
    "import random\n",
    "\n",
    "X = [1,2,3,4]\n",
    "Y = [5,6,7,8]\n",
    "zipped = list(zip(X,Y))\n",
    "random.shuffle(zipped)\n",
    "\n",
    "x, y = zipped[:2]"
   ]
  },
  {
   "cell_type": "code",
   "execution_count": 4,
   "metadata": {
    "collapsed": false
   },
   "outputs": [
    {
     "data": {
      "text/plain": [
       "[6, 3, 7, 2, 1]"
      ]
     },
     "execution_count": 4,
     "metadata": {},
     "output_type": "execute_result"
    }
   ],
   "source": [
    "X = (1,2,3,4,5)\n",
    "Y = (6,3,7,2,1)\n",
    "list(Y)"
   ]
  },
  {
   "cell_type": "code",
   "execution_count": 5,
   "metadata": {
    "collapsed": false
   },
   "outputs": [
    {
     "data": {
      "text/plain": [
       "array([[1, 0, 0, 1],\n",
       "       [1, 0, 1, 1]])"
      ]
     },
     "execution_count": 5,
     "metadata": {},
     "output_type": "execute_result"
    }
   ],
   "source": [
    "dropout_percent = 0.2\n",
    "np.random.binomial(\n",
    "    [np.ones((2,4))],1-dropout_percent)[0]"
   ]
  },
  {
   "cell_type": "code",
   "execution_count": null,
   "metadata": {
    "collapsed": true
   },
   "outputs": [],
   "source": []
  }
 ],
 "metadata": {
  "kernelspec": {
   "display_name": "Python 3",
   "language": "python",
   "name": "python3"
  },
  "language_info": {
   "codemirror_mode": {
    "name": "ipython",
    "version": 3
   },
   "file_extension": ".py",
   "mimetype": "text/x-python",
   "name": "python",
   "nbconvert_exporter": "python",
   "pygments_lexer": "ipython3",
   "version": "3.6.0"
  }
 },
 "nbformat": 4,
 "nbformat_minor": 2
}
