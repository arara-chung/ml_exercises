{
 "cells": [
  {
   "cell_type": "code",
   "execution_count": 1,
   "metadata": {
    "collapsed": false
   },
   "outputs": [],
   "source": [
    "\"\"\"\n",
    "Tensorflow v0.10.0 で　XOR を解く\n",
    "author: Ray Chun-Kit Chung\n",
    "licence: MIT\n",
    "\n",
    "inspired by Sirajology\n",
    "\"\"\"\n",
    "\n",
    "import numpy as np\n",
    "\n",
    "# Rowはデータ、Columnは二つの入力\n",
    "data = np.array([\n",
    "        [0,0],\n",
    "        [0,1],\n",
    "        [1,0],\n",
    "        [1,1],\n",
    "    ])\n",
    "\n",
    "# Rowはラベル\n",
    "labels = np.array([\n",
    "        [0],\n",
    "        [1],\n",
    "        [1],\n",
    "        [0],\n",
    "    ])\n",
    "# 例えば、一行目のデータ[0,0]　ー＞　一行目のラベル[0]\n",
    "#              二行目のデータ[0,1]　ー＞　二行目のラベル[1]\n",
    "\n",
    "# 今回は、データが四つしかないので、train組みとtest組みを一緒にする\n",
    "# 本番は、絶対絶対絶対分けないと行けない\n",
    "train_data = data\n",
    "train_labels = labels\n",
    "test_data = data\n",
    "test_labels = labels\n",
    "\n",
    "#二つの入力、一つの出力、隠れ層は四つのニューロン\n",
    "input_dim = data.shape[1]\n",
    "output_dim = labels.shape[1]\n",
    "hidden_dim = 4\n"
   ]
  },
  {
   "cell_type": "code",
   "execution_count": 2,
   "metadata": {
    "collapsed": false
   },
   "outputs": [],
   "source": [
    "import tensorflow as tf\n",
    "\n",
    "#入力データとラベルの変数を定義し、x　と y_　とする  \n",
    "# 次元：　Noneはデータの量、今回４だけど、Noneを入れて、自動やってくれる\n",
    "x = tf.placeholder(tf.float32, [None, input_dim])\n",
    "y_ = tf.placeholder(tf.float32, [None, output_dim])\n",
    "\n",
    "# 左のsynapesの方程式を定義し、乱数で初期化\n",
    "w1 = tf.Variable(tf.random_uniform([input_dim, hidden_dim], minval=-0.9, maxval=0.9))\n",
    "b1 = tf.Variable(tf.random_uniform([hidden_dim], minval=-0.9, maxval=0.9))\n",
    "\n",
    "# 隱れ層は、sigmoid (perceptron)の方程式で定義する\n",
    "hidden_layer = tf.sigmoid(tf.matmul(x, w1) + b1)\n",
    "\n",
    "# 右のsynapesの方程式を定義し、乱数で初期化\n",
    "w2 = tf.Variable(tf.random_uniform([hidden_dim, output_dim], minval=-0.9, maxval=0.9))\n",
    "b2 = tf.Variable(tf.random_uniform([output_dim], minval=-0.9, maxval=0.9))\n",
    "\n",
    "# 出力 y も、sigmoid (perceptron)の方程式で定義する\n",
    "y = tf.sigmoid(tf.matmul(hidden_layer, w2) + b2)\n",
    "\n",
    "# コースド算数は、今回cross_entropyを使う\n",
    "#mean_sq_error = tf.reduce_mean(tf.reduce_sum(0.5 * tf.square(y - y_), reduction_indices=[1]))\n",
    "#cross_entropy = tf.reduce_mean(-tf.reduce_sum(y_ * tf.log(y), reduction_indices=[1]))\n",
    "cross_entropy = tf.reduce_mean(- y_ * tf.log(y) - (1.0-y_) * tf.log(1.0-y))\n",
    "\n",
    "# 普通のGradient Descentを使い、cross_entropyを最小化することを宣言する\n",
    "# それで、back propを自動的にやってくれるのが、すごくありがたいです m__m\n",
    "train_step = tf.train.GradientDescentOptimizer(0.1).minimize(cross_entropy)\n",
    "\n",
    "#  出力　y　と　ラベル　y_　あってるかを確認する関数を定義\n",
    "correct_prediction = tf.equal(tf.round(y), tf.round(y_))\n",
    "\n",
    "# accuracy = あってるデータ個数　/ 全データ個数\n",
    "accuracy = tf.reduce_mean(tf.cast(correct_prediction, tf.float32))"
   ]
  },
  {
   "cell_type": "code",
   "execution_count": 3,
   "metadata": {
    "collapsed": false
   },
   "outputs": [
    {
     "name": "stdout",
     "output_type": "stream",
     "text": [
      "1.0\n",
      "0.00277062\n",
      "[[ True]\n",
      " [ True]\n",
      " [ True]\n",
      " [ True]]\n",
      "[[ 0.00322535]\n",
      " [ 0.9957307 ]\n",
      " [ 0.99890983]\n",
      " [ 0.00247968]]\n"
     ]
    }
   ],
   "source": [
    "# 計算を担当する session　さんを呼び出す\n",
    "sess = tf.Session()\n",
    "\n",
    "# 定義された変数と関数を呼び出す\n",
    "sess.run(tf.initialize_all_variables())\n",
    "\n",
    "# training は、30000 epochesを繰り返す\n",
    "for i in range(30000):\n",
    "    # train_stepで学習させ、feed_dictでデータとラベルを入れる\n",
    "    sess.run(train_step, feed_dict={x: train_data, y_: train_labels})\n",
    "\n",
    "# 正確度\n",
    "print(sess.run(accuracy, feed_dict={x: test_data, y_: test_labels}))\n",
    "# cross_entropy\n",
    "print(sess.run(cross_entropy, feed_dict={x: test_data, y_: test_labels}))\n",
    "# 正しかったデータポイント\n",
    "print(sess.run(correct_prediction, feed_dict={x: test_data, y_: test_labels}))\n",
    "# 出力\n",
    "print(sess.run(y, feed_dict={x: test_data, y_: test_labels}))\n",
    "# などなど"
   ]
  },
  {
   "cell_type": "code",
   "execution_count": null,
   "metadata": {
    "collapsed": true
   },
   "outputs": [],
   "source": []
  },
  {
   "cell_type": "code",
   "execution_count": null,
   "metadata": {
    "collapsed": true
   },
   "outputs": [],
   "source": [
    "\n",
    "def predict(in1, in2):\n",
    "    \n",
    "    if in1 == 0 and in2 == 0:\n",
    "        return 0\n",
    "    \n",
    "    if in1 == 1 and in2 == 0:\n",
    "        return 1\n",
    "    \n",
    "    if in1 == 0 and in2 == 1:\n",
    "        return 1\n",
    "    \n",
    "    if in1 == 1 and in2 == 1:\n",
    "        return 0\n",
    "    \n",
    "    "
   ]
  }
 ],
 "metadata": {
  "anaconda-cloud": {},
  "kernelspec": {
   "display_name": "Python [conda env:tf]",
   "language": "python",
   "name": "conda-env-tf-py"
  },
  "language_info": {
   "codemirror_mode": {
    "name": "ipython",
    "version": 3
   },
   "file_extension": ".py",
   "mimetype": "text/x-python",
   "name": "python",
   "nbconvert_exporter": "python",
   "pygments_lexer": "ipython3",
   "version": "3.5.2"
  }
 },
 "nbformat": 4,
 "nbformat_minor": 1
}
